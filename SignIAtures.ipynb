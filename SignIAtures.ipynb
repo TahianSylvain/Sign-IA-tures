{
 "cells": [
  {
   "cell_type": "code",
   "execution_count": null,
   "metadata": {},
   "outputs": [],
   "source": [
    "# Chapter 8: GENERATING IMG USING VAEs and GANs\n",
    "\"\"\"The main idea is to dev a low-dim latent space of representations where any point can be mapped to a realistic-lookinng-img\n",
    "   taking as io(lantent_point->output_img)      not(predict) but(generator[GANs], decoder[VAEs])\n",
    "   \"\"\""
   ]
  },
  {
   "cell_type": "markdown",
   "metadata": {},
   "source": [
    "Returning: png/3D\n",
    "\n",
    "Variational autoencoders, simultaneously discovered by Kingma and Welling in\n",
    "December 2013 6 and Rezende, Mohamed, and Wierstra in January 2014,7 are a kind\n",
    "of generative model that’s especially appropriate for the task of image editing via con-\n",
    "cept vectors."
   ]
  },
  {
   "cell_type": "code",
   "execution_count": null,
   "metadata": {},
   "outputs": [],
   "source": [
    "\"\"\"z_mean, z_log_variance = encoder(input_img)\n",
    "# Encodes the input into a\n",
    "# mean and variance parameter\n",
    "z = z_mean + exp(z_log_variance) * epsilon\n",
    "# Decodes z back to an image\n",
    "# Draws a latent point using a small random epsilon\n",
    "reconstructed_img = decoder(z)\n",
    "model = Model(input_img, reconstructed_img)\n",
    "# Instantiates the autoencoder model, which maps an input image to its reconstruction\"\"\""
   ]
  },
  {
   "cell_type": "code",
   "execution_count": null,
   "metadata": {},
   "outputs": [],
   "source": [
    "\"\"\"Listing 8.23 VAE encoder network\"\"\"\n",
    "import keras\n",
    "from keras import layers\n",
    "from keras import backend as K\n",
    "from keras.models import Model\n",
    "import numpy as np\n",
    "img_shape = (28, 28, 1)\n",
    "batch_size = 16\n",
    "latent_dim = 2\n",
    "\n",
    "# Dimensionality of the latent space: a 2D plane\n",
    "input_img = keras.Input(shape=img_shape)\n",
    "\n",
    "# Generating images with variational autoencoders\n",
    "x = layers.Conv2D(32, 3,\n",
    "padding='same', activation='relu')(input_img)\n",
    "x = layers.Conv2D(64, 3,\n",
    "padding='same', activation='relu',\n",
    "strides=(2, 2))(x)\n",
    "x = layers.Conv2D(64, 3,\n",
    "padding='same', activation='relu')(x)\n",
    "x = layers.Conv2D(64, 3,\n",
    "padding='same', activation='relu')(x)\n",
    "shape_before_flattening = K.int_shape(x)\n",
    "x = layers.Flatten()(x)\n",
    "x = layers.Dense(32, activation='relu')(x)\n",
    "z_mean = layers.Dense(latent_dim)(x)\n",
    "z_log_var = layers.Dense(latent_dim)(x)\n",
    "\n",
    "# The input image ends up being encoded into \n",
    "# these two parameters."
   ]
  },
  {
   "cell_type": "code",
   "execution_count": null,
   "metadata": {},
   "outputs": [],
   "source": [
    "\"\"\"Listing 8.24 Latent-space-sampling function\"\"\"\n",
    "def sampling(args):\n",
    "    z_mean, z_log_var = args\n",
    "    epsilon = K.random_normal(shape=(K.shape(z_mean)[0], latent_dim),\n",
    "    mean=0., stddev=1.)\n",
    "    return z_mean + K.exp(z_log_var) * epsilon\n",
    "z = layers.Lambda(sampling)([z_mean, z_log_var])"
   ]
  },
  {
   "cell_type": "code",
   "execution_count": null,
   "metadata": {},
   "outputs": [],
   "source": [
    "# Listing 8.25 VAE decoder network, mapping latent space points to images\n",
    "decoder_input = layers.Input(K.int_shape(z)[1:]) #Input where you’ll feed z\n",
    "x = layers.Dense(np.prod(shape_before_flattening[1:]),\n",
    "activation='relu')(decoder_input) #Upsamples the input\n",
    "x = layers.Reshape(shape_before_flattening[1:])(x)\n",
    "x = layers.Conv2DTranspose(32, 3,\n",
    "padding='same',\n",
    "activation='relu',\n",
    "strides=(2, 2))(x)\n",
    "x = layers.Conv2D(1, 3,\n",
    "padding='same',\n",
    "activation='sigmoid')(x)\n",
    "\"\"\"Reshapes z into a feature map of the same shape as the feature\n",
    "map just before the last Flatten layer in the encoder mode\"\"\"\n",
    "\n",
    "\"\"\"Uses a Conv2DTranspose layer and Conv2D layer to decode z into\n",
    "a feature map the same size as the original image input302 \"\"\"\n",
    "decoder = Model(decoder_input, x)\n",
    "z_decoded = decoder(z)\n",
    "#Applies it to z to recover the decoded z"
   ]
  },
  {
   "cell_type": "code",
   "execution_count": null,
   "metadata": {},
   "outputs": [],
   "source": [
    "# Listing 8.26 Custom layer used to compute the VAE loss\n",
    "class CustomVariationalLayer(keras.layers.Layer):\n",
    "    def vae_loss(self, x, z_decoded):\n",
    "        x = K.flatten(x)\n",
    "        z_decoded = K.flatten(z_decoded)\n",
    "        xent_loss = keras.metrics.binary_crossentropy(x, z_decoded)\n",
    "        kl_loss = -5e-4 * K.mean(\n",
    "        1 + z_log_var - K.square(z_mean) - K.exp(z_log_var), axis=-1)\n",
    "        return K.mean(xent_loss + kl_loss)\n",
    "    \n",
    "    \"\"\"You don't use this output, but the layer must returnsomething.\"\"\"\n",
    "    def call(self, inputs):\n",
    "        #You implement custom layers by writing a call method.\n",
    "        x = inputs[0]\n",
    "        z_decoded = inputs[1]\n",
    "        loss = self.vae_loss(x, z_decoded)\n",
    "        # Calls the custom layer on the input and the\n",
    "        self.add_loss(loss, inputs=inputs)\n",
    "        return x\n",
    "\n",
    "\n",
    "# decoded output to obtain the final model output\n",
    "y = CustomVariationalLayer()([input_img, z_decoded])"
   ]
  },
  {
   "cell_type": "code",
   "execution_count": null,
   "metadata": {},
   "outputs": [],
   "source": [
    "\"\"\"Listing 8.27 Training the VAE\"\"\"\n",
    "from keras.datasets import mnist\n",
    "vae = Model(input_img, y)\n",
    "vae.compile(optimizer='rmsprop', loss=None) \n",
    " vae.summary()\n",
    "(x_train, _), (x_test, y_test) = mnist.load_data()\n",
    "x_train = x_train.astype('float32') / 255.\n",
    "x_train = x_train.reshape(x_train.shape + (1,))\n",
    "x_test = x_test.astype('float32') / 255.\n",
    "x_test = x_test.reshape(x_test.shape + (1,))\n",
    "vae.fit(x=x_train, y=None,\n",
    "    shuffle=True,\n",
    "    epochs=10,\n",
    "    batch_size=batch_size,\n",
    "    validation_data=(x_test, None)\n",
    ")"
   ]
  },
  {
   "cell_type": "code",
   "execution_count": null,
   "metadata": {},
   "outputs": [],
   "source": [
    "\"\"\"Listing 8.28 Sampling a grid of points from the 2D latent space \n",
    "   and decoding them to images\"\"\"\n",
    "from scipy.stats import norm\n",
    "import matplotlib.pyplot as plt\n",
    "\n",
    "\n",
    "# You’ll display a grid of 15 × 15 digits (255 digits total).\n",
    "n, digit_size = 15, 28\n",
    "figure = np.zeros((digit_size * n, digit_size * n))\n",
    "grid_x = norm.ppf(np.linspace(0.05, 0.95, n))\n",
    "grid_y = norm.ppf(np.linspace(0.05, 0.95, n))\n",
    "\"\"\"Transforms linearly spaced coordinates using the SciPy ppf\n",
    "    function to produce values of the latent variable z\n",
    "    (because the prior of the latent space is Gaussian)\"\"\"\n",
    "\n",
    "#Repeats z multiple times to form a complete batch\n",
    "for i, yi in enumerate(grid_x):\n",
    "    for j, xi in enumerate(grid_y):\n",
    "        z_sample = np.array([[xi, yi]])\n",
    "        z_sample = np.tile(z_sample, batch_size).reshape(batch_size, 2)\n",
    "        x_decoded = decoder.predict(z_sample, batch_size=batch_size)\n",
    "        digit = x_decoded[0].reshape(digit_size, digit_size)\n",
    "        figure[i * digit_size: (i + 1) * digit_size,\n",
    "        j * digit_size: (j + 1) * digit_size] = digit\n",
    "\n",
    "plt.figure(figsize=(10, 10))\n",
    "plt.imshow(figure, cmap='Greys_r')\n",
    "plt.show()\n",
    "\"\"\"Reshapes the first digit in the batch\n",
    "    from 28 × 28 × 1 to 28 × 28\n",
    "    Decodes the batch into digit images\"\"\""
   ]
  }
 ],
 "metadata": {
  "language_info": {
   "name": "python"
  }
 },
 "nbformat": 4,
 "nbformat_minor": 2
}
